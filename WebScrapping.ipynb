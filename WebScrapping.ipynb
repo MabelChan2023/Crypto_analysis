{
 "cells": [
  {
   "cell_type": "code",
   "execution_count": 1,
   "metadata": {},
   "outputs": [],
   "source": [
    "import pandas as pd\n",
    "import numpy as np\n",
    "import matplotlib\n",
    "import matplotlib.pyplot as plt\n",
    "import transformers\n",
    "from transformers import pipeline\n",
    "import requests\n",
    "from bs4 import BeautifulSoup\n",
    "from urllib.parse import urlparse\n",
    "import numpy as np\n",
    "import nltk.data\n",
    "from requests_html import HTMLSession"
   ]
  },
  {
   "cell_type": "code",
   "execution_count": 53,
   "metadata": {},
   "outputs": [],
   "source": [
    "def parse_href(url, element):\n",
    "    session = HTMLSession()\n",
    "    r = session.get(url)\n",
    "    elements = r.html.find(element)\n",
    "    links = [element.attrs['href'] for element in elements if 'href' in element.attrs]\n",
    "    return links\n"
   ]
  },
  {
   "cell_type": "code",
   "execution_count": null,
   "metadata": {
    "scrolled": true
   },
   "outputs": [],
   "source": [
    "hyperlinks = parse_href(url, 'a')\n",
    "\n",
    "# Print the string versions of the hyperlinks\n",
    "for hyperlink in hyperlinks:\n",
    "    print(hyperlink)\n"
   ]
  },
  {
   "cell_type": "code",
   "execution_count": 55,
   "metadata": {},
   "outputs": [],
   "source": [
    "def parse_elements(url,element):\n",
    "    session = HTMLSession()\n",
    "    r = session.get(url)\n",
    "    elements = r.html.find(element)\n",
    "    return elements"
   ]
  },
  {
   "cell_type": "code",
   "execution_count": 56,
   "metadata": {},
   "outputs": [],
   "source": [
    "paragraphs = parse_elements(url, 'p')\n",
    "links = parse_elements(url, 'a')"
   ]
  },
  {
   "cell_type": "code",
   "execution_count": 57,
   "metadata": {},
   "outputs": [],
   "source": [
    "def topic_detection(sentence):\n",
    "    DataScience_words = ('data science', 'regression', 'predict', 'predictive', 'classify')\n",
    "    AI_words = ('AI', 'machine learning', 'ml', 'ML', 'NLP', 'LLM','deep learning','neural network','generative', 'GPT-3')\n",
    "    DataWords = ('analysis', 'algorithms','data','data structure','data-structure','big data')\n",
    "    DataScience = any(sentence.count(i) > 0 for i in DataScience_words)\n",
    "    AI = any(sentence.count(i) > 0 for i in AI_words)\n",
    "    data = any(sentence.count(i) > 0 for i in DataWords)\n",
    "    topics = []\n",
    "    if DataScience == True:\n",
    "        topics.append(\"Data Science\")\n",
    "    if AI == True:\n",
    "        topics.append(\"AI\")\n",
    "    if data == True:\n",
    "        topics.append(\"data\")\n",
    "    return topics"
   ]
  },
  {
   "cell_type": "code",
   "execution_count": 58,
   "metadata": {},
   "outputs": [],
   "source": [
    "p_dictionary = {}\n",
    "p_list = []\n",
    "topic_list = []\n",
    "for p in range(0, len(paragraphs)):\n",
    "    if len(paragraphs[p].text) > 50:\n",
    "      #print((paragraphs[p].text))\n",
    "      #print(f\"TALKS ABOUT: {topic_detection(paragraphs[p].text)}\")\n",
    "      p_list.append(paragraphs[p].text)\n",
    "      topic_list.append(topic_detection(paragraphs[p].text))\n",
    "p_dictionary['Paragraphs'] = p_list\n",
    "p_dictionary['Topics'] = topic_list"
   ]
  },
  {
   "cell_type": "code",
   "execution_count": 59,
   "metadata": {
    "scrolled": true
   },
   "outputs": [
    {
     "data": {
      "text/plain": [
       "{'Paragraphs': ['Home Depot beats earnings estimates but warns of \"continued pressure\" on consumers'],\n",
       " 'Topics': [[]]}"
      ]
     },
     "execution_count": 59,
     "metadata": {},
     "output_type": "execute_result"
    }
   ],
   "source": [
    "p_dictionary"
   ]
  },
  {
   "cell_type": "code",
   "execution_count": 60,
   "metadata": {},
   "outputs": [],
   "source": [
    "medium_df = pd.DataFrame(p_dictionary)"
   ]
  },
  {
   "cell_type": "code",
   "execution_count": null,
   "metadata": {},
   "outputs": [],
   "source": [
    "medium_df"
   ]
  },
  {
   "cell_type": "code",
   "execution_count": 18,
   "metadata": {},
   "outputs": [],
   "source": [
    "medium_df['Character Count'] = medium_df['Paragraphs'].apply(lambda x: len(x))\n"
   ]
  },
  {
   "cell_type": "markdown",
   "metadata": {},
   "source": [
    "# Start"
   ]
  },
  {
   "cell_type": "code",
   "execution_count": 2,
   "metadata": {
    "scrolled": true
   },
   "outputs": [
    {
     "name": "stderr",
     "output_type": "stream",
     "text": [
      "Some weights of the PyTorch model were not used when initializing the TF 2.0 model TFRobertaForSequenceClassification: ['roberta.embeddings.position_ids']\n",
      "- This IS expected if you are initializing TFRobertaForSequenceClassification from a PyTorch model trained on another task or with another architecture (e.g. initializing a TFBertForSequenceClassification model from a BertForPreTraining model).\n",
      "- This IS NOT expected if you are initializing TFRobertaForSequenceClassification from a PyTorch model that you expect to be exactly identical (e.g. initializing a TFBertForSequenceClassification model from a BertForSequenceClassification model).\n",
      "All the weights of TFRobertaForSequenceClassification were initialized from the PyTorch model.\n",
      "If your task is similar to the task the model of the checkpoint was trained on, you can already use TFRobertaForSequenceClassification for predictions without further training.\n"
     ]
    }
   ],
   "source": [
    "model_id = \"mrm8488/distilroberta-finetuned-financial-news-sentiment-analysis\"\n",
    "label = pipeline('sentiment-analysis', model = model_id)"
   ]
  },
  {
   "cell_type": "code",
   "execution_count": 3,
   "metadata": {},
   "outputs": [],
   "source": [
    "HEADERS = {\n",
    "        \"User-Agent\": \"Mozilla/5.0 (Windows NT 10.0; Win64; x64; rv:98.0) Gecko/20100101 Firefox/98.0\",\n",
    "        \"Accept\": \"text/html,application/xhtml+xml,application/xml;q=0.9,image/avif,image/webp,*/*;q=0.8\",\n",
    "        \"Accept-Language\": \"en-US,en;q=0.5\",\n",
    "        \"Accept-Encoding\": \"gzip, deflate\",\n",
    "        \"Connection\": \"keep-alive\",\n",
    "        \"Upgrade-Insecure-Requests\": \"1\",\n",
    "        \"Sec-Fetch-Dest\": \"document\",\n",
    "        \"Sec-Fetch-Mode\": \"navigate\",\n",
    "        \"Sec-Fetch-Site\": \"none\",\n",
    "        \"Sec-Fetch-User\": \"?1\",\n",
    "        \"Cache-Control\": \"max-age=0\",\n",
    "    }\n"
   ]
  },
  {
   "cell_type": "code",
   "execution_count": 76,
   "metadata": {},
   "outputs": [],
   "source": [
    "url = 'https://financialpost.com/news/economy/canada-inflation-rate-higher-than-expected'\n",
    "response = requests.get(url, headers=HEADERS)\n",
    "page_content = response.text\n",
    "doc = BeautifulSoup(page_content, 'html.parser')\n",
    "header = []\n",
    "news_elements = doc.find_all('h3', {\"class\" : 'article-card__headline m-0 article-card__headline--clamp-3'})\n",
    "news_header = [] \n",
    "for i in range (len(news_elements)):\n",
    "    news_header.append(news_elements[i].text)"
   ]
  },
  {
   "cell_type": "code",
   "execution_count": 78,
   "metadata": {},
   "outputs": [
    {
     "data": {
      "text/plain": [
       "5"
      ]
     },
     "execution_count": 78,
     "metadata": {},
     "output_type": "execute_result"
    }
   ],
   "source": [
    "len(news_header)\n"
   ]
  },
  {
   "cell_type": "code",
   "execution_count": 6,
   "metadata": {
    "scrolled": true
   },
   "outputs": [],
   "source": [
    "for i in range (len(a_elements)):\n",
    "    header.append(a_elements[i].text)\n",
    "news_header_df = pd.DataFrame({'News_Header': header})"
   ]
  },
  {
   "cell_type": "code",
   "execution_count": 7,
   "metadata": {},
   "outputs": [],
   "source": [
    "classification = []\n",
    "for i in range (len(news_header_df.News_Header)):\n",
    "    classification.append(label(news_header_df.News_Header[i]))"
   ]
  },
  {
   "cell_type": "code",
   "execution_count": 28,
   "metadata": {},
   "outputs": [
    {
     "data": {
      "text/plain": [
       "'neutral'"
      ]
     },
     "execution_count": 28,
     "metadata": {},
     "output_type": "execute_result"
    }
   ],
   "source": [
    "classification[4][0]['label']"
   ]
  },
  {
   "cell_type": "code",
   "execution_count": 32,
   "metadata": {},
   "outputs": [],
   "source": [
    "labels = []\n",
    "for i in range (len(classification)):\n",
    "    labels.append(classification[i][0]['label'])"
   ]
  },
  {
   "cell_type": "code",
   "execution_count": 33,
   "metadata": {},
   "outputs": [],
   "source": [
    "news_header_df['sentiment_analysis'] = labels"
   ]
  },
  {
   "cell_type": "code",
   "execution_count": null,
   "metadata": {},
   "outputs": [],
   "source": []
  }
 ],
 "metadata": {
  "kernelspec": {
   "display_name": "Python 3 (ipykernel)",
   "language": "python",
   "name": "python3"
  },
  "language_info": {
   "codemirror_mode": {
    "name": "ipython",
    "version": 3
   },
   "file_extension": ".py",
   "mimetype": "text/x-python",
   "name": "python",
   "nbconvert_exporter": "python",
   "pygments_lexer": "ipython3",
   "version": "3.11.4"
  }
 },
 "nbformat": 4,
 "nbformat_minor": 4
}
