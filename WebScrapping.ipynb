{
 "cells": [
  {
   "cell_type": "code",
   "execution_count": 32,
   "metadata": {},
   "outputs": [
    {
     "ename": "ModuleNotFoundError",
     "evalue": "No module named 'nltk'",
     "output_type": "error",
     "traceback": [
      "\u001b[0;31m---------------------------------------------------------------------------\u001b[0m",
      "\u001b[0;31mModuleNotFoundError\u001b[0m                       Traceback (most recent call last)",
      "Cell \u001b[0;32mIn[32], line 9\u001b[0m\n\u001b[1;32m      7\u001b[0m \u001b[38;5;28;01mfrom\u001b[39;00m \u001b[38;5;21;01murllib\u001b[39;00m\u001b[38;5;21;01m.\u001b[39;00m\u001b[38;5;21;01mparse\u001b[39;00m \u001b[38;5;28;01mimport\u001b[39;00m urlparse\n\u001b[1;32m      8\u001b[0m \u001b[38;5;28;01mimport\u001b[39;00m \u001b[38;5;21;01mnumpy\u001b[39;00m \u001b[38;5;28;01mas\u001b[39;00m \u001b[38;5;21;01mnp\u001b[39;00m\n\u001b[0;32m----> 9\u001b[0m \u001b[38;5;28;01mimport\u001b[39;00m \u001b[38;5;21;01mnltk\u001b[39;00m\u001b[38;5;21;01m.\u001b[39;00m\u001b[38;5;21;01mdata\u001b[39;00m\n\u001b[1;32m     10\u001b[0m \u001b[38;5;28;01mfrom\u001b[39;00m \u001b[38;5;21;01mrequests_html\u001b[39;00m \u001b[38;5;28;01mimport\u001b[39;00m HTMLSession\n",
      "\u001b[0;31mModuleNotFoundError\u001b[0m: No module named 'nltk'"
     ]
    }
   ],
   "source": [
    "import pandas as pd\n",
    "import numpy as np\n",
    "import matplotlib\n",
    "import matplotlib.pyplot as plt\n",
    "import requests\n",
    "from bs4 import BeautifulSoup\n",
    "from urllib.parse import urlparse\n",
    "import numpy as np\n",
    "import nltk.data\n",
    "from requests_html import HTMLSession"
   ]
  },
  {
   "cell_type": "code",
   "execution_count": 27,
   "metadata": {},
   "outputs": [],
   "source": [
    "url = 'https://ca.finance.yahoo.com/'\n",
    "response = requests.get(url)"
   ]
  },
  {
   "cell_type": "code",
   "execution_count": 28,
   "metadata": {},
   "outputs": [],
   "source": [
    "soup = BeautifulSoup(response.content, 'html.parser')"
   ]
  },
  {
   "cell_type": "code",
   "execution_count": 29,
   "metadata": {},
   "outputs": [],
   "source": [
    "for element in soup(['script', 'style', 'comment']):\n",
    "    element.extract()"
   ]
  },
  {
   "cell_type": "code",
   "execution_count": 30,
   "metadata": {},
   "outputs": [],
   "source": [
    "text = soup.get_text(separator=' ')"
   ]
  },
  {
   "cell_type": "code",
   "execution_count": 31,
   "metadata": {},
   "outputs": [
    {
     "name": "stdout",
     "output_type": "stream",
     "text": [
      "Stock Market, Finance & Business News | Yahoo Finance Canada Home Mail News Sports Finance Celebrity Style Movies Weather Mobile Yahoo Mail Finance Home News Taxes Watchlists My Portfolio Real Estate My Screeners Tech Market Data Industry News Currency Converter We are experiencing some temporary issues. The market data on this page is currently delayed. Please bear with us as we address this and restore your personalized lists. Canada markets open in 2 hours 50 minutes S&P/TSX 20,290.54 -117.03 (-0.57%) S&P 500 4,489.72 +25.67 (+0.58%) DOW 35,307.63 +26.23 (+0.07%) CAD/USD 0.7412 -0.0018 (-0.24%) CRUDE OIL 81.92 -0.59 (-0.72%) Bitcoin CAD 39,633.94 -4.45 (-0.01%) Canada inflation: Food, energy likely pushed up prices in July, say economists According to Statistics Canada, CPI rose 2.8% year-over-year in June, following a 3.4% increase in May. Yahoo Finance Canada Boralex shares jump after reporting Q2 profit up from year ago The Canadian Press Equinor hires drill rig to prospect for oil off N.L.'s east coast The Canadian Press AMC stock sinks, preferred units climb after conversion deal Reuters 11 : 32 Yahoo Finance LIVE - Aug 15 AM Yahoo Finance Video 1 : 07 UAW strike looms, UBS mortgage settlement, PayPal CEO: Top Stories Yahoo Finance Video Oil takes breather after seven-week rally Yahoo Finance Why Walmart stock has rocketed to a 52-week high Yahoo Finance Kraft Heinz CEO Miguel Patricio to step down Reuters Business Insider An upcoming video game is so realistic it simulates a homelessness crisis, getting laid off, and Gen Z going broke Mismanaging the virtual city could lead to a cascade of economic woes from families being unable to pay rent, to sweeping layoffs and bankruptcies. Yahoo Finance Home Depot earnings beat estimates, but CEO cites 'continued pressure' on consumers Consumers aren't as interested in home renovation as much as they once were. Reuters Explainer-How much worse can China's economic slowdown get? China's economic activity data for July, including retail sales, industrial output and investment failed to match expectations, fuelling concern over a deeper, longer-lasting slowdown in growth.  Activity data has been missing forecasts since the beginning of the second quarter, with the weakness raising worries that China's economy is coming closer to a crunch point.  China came out of those with a shock boost to infrastructure investment and by encouraging property market speculation, among other measures. The Canadian Press A $500 million deal to restore Gabon's coast reignites climate finance debate DAKAR, Senegal (AP) — Gabon will use a controversial financial move to ease its debt burden and restore its oceans at the same time, a leading conservation group said Tuesday. It’s the second-largest deal of its kind to date, and the first on mainland Africa, according to a press release by The Nature Conservancy, the global environmental nonprofit that helped broker the deal. Gabon, an oil-rich Central African nation known for its biodiversity, hosts the world’s largest population of leatherbac Bloomberg Russia’s Emergency Rate Hike Fails to Lift Ruble After Crash (Bloomberg) -- Russia’s central bank raised interest rates sharply and said another increase is possible, but fell short of reversing declines in the ruble amid one of the steepest depreciations in emerging markets.Most Read from BloombergRussia Calls Emergency Key Rate Meeting as Ruble PlungesHollywood Studios Offer Writers a New Deal With Push From Netflix, Iger to End StrikeTrump Fourth Indictment Lays Out Sweeping Georgia Election PlotOut of Options and Money, Argentina Presses the Panic But Reuters U.S. retail therapy as China funk deepens As investors switch attention to the health of the U.S. consumer, a funk in China's economy, markets and currency appeared to deepen and emerging market ructions spread.  After another disappointing reading for industrial production and retail sales this month, China's central bank scrambled to cut 1-year lending rates by 15 basis points to 2.50% - the second cut in policy rates in three months - and sent the yuan sliding to 2023 lows against the dollar. The Canadian Press Russia's central bank makes huge interest rate hike to try to prop up falling ruble TALLINN, Estonia (AP) — Russia’s central bank made a big interest rate hike of 3.5 percentage points on Tuesday, an emergency move designed to fight inflation and strengthen the ruble after the country's currency reached its lowest value since early in the war with Ukraine. The decision to bring the key rate to 12% was announced after a meeting of the bank’s board of directors was called a day earlier as the ruble declined. The fall comes as Moscow increases military spending and Western sanctio Bloomberg Wheat Falls for Third Day as Black Sea Shipments Continue (Bloomberg) -- Wheat dropped for a third day as grain exports continued from Russia and Ukraine even as tensions remain in the Black Sea region. Most Read from BloombergRussia Calls Emergency Key Rate Meeting as Ruble PlungesHollywood Studios Offer Writers a New Deal With Push From Netflix, Iger to End StrikeTrump Fourth Indictment Lays Out Sweeping Georgia Election PlotOut of Options and Money, Argentina Presses the Panic ButtonChina Cuts Rate by Most Since 2020 as Economic Woes DeepenBenchmark Business Insider From concert tickets to hotel reservations, everything you want to do now requires an infuriating app Good luck trying to break your phone addiction. Every interaction requires an app download, making it near impossible to get rid of your smartphone. Yahoo Finance Student loan repayments won't keep consumers down: Morning Brief Investors are concerned impending student loan repayments may tank retail sales. But there's reason to believe that won't happen. My Portfolio & Markets Customize Recently Viewed Your list is empty.   My Watchlists Sign-in to view your list and add symbols. Sign In Cryptocurrencies Symbol Last Price Change % Change Currencies Symbol Last Price Change % Change Trending Tickers Symbol Last Price Change % Change Stocks: Most Actives Symbol Last Price Change % Change Stocks: Gainers Symbol Last Price Change % Change Stocks: Losers Symbol Last Price Change % Change Top Mutual Funds Symbol Last Price Change % Change Futures Symbol Last Price Change % Change   © 2023 Yahoo. All rights reserved. Data Disclaimer Help Suggestions Terms (Updated) Privacy Privacy Dashboard About Our Ads \n",
      " \n",
      " \n",
      " \n",
      " \n",
      " \n",
      " \n",
      " \n",
      " \n",
      " \n",
      " \n",
      " \n",
      " \n",
      " \n",
      " \n",
      " \n",
      " \n",
      " \n",
      " \n",
      " \n",
      " \n",
      "\n"
     ]
    }
   ],
   "source": [
    "print(text)"
   ]
  },
  {
   "cell_type": "code",
   "execution_count": null,
   "metadata": {},
   "outputs": [],
   "source": []
  }
 ],
 "metadata": {
  "kernelspec": {
   "display_name": "Python 3 (ipykernel)",
   "language": "python",
   "name": "python3"
  },
  "language_info": {
   "codemirror_mode": {
    "name": "ipython",
    "version": 3
   },
   "file_extension": ".py",
   "mimetype": "text/x-python",
   "name": "python",
   "nbconvert_exporter": "python",
   "pygments_lexer": "ipython3",
   "version": "3.10.7"
  }
 },
 "nbformat": 4,
 "nbformat_minor": 4
}
