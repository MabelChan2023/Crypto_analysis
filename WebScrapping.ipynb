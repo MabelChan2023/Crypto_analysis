{
 "cells": [
  {
   "cell_type": "code",
   "execution_count": 3,
   "metadata": {},
   "outputs": [],
   "source": [
    "import pandas as pd\n",
    "import numpy as np\n",
    "import matplotlib\n",
    "import matplotlib.pyplot as plt\n",
    "import transformers\n",
    "from transformers import pipeline\n",
    "import requests\n",
    "from bs4 import BeautifulSoup\n",
    "from urllib.parse import urlparse\n",
    "import numpy as np\n",
    "import nltk.data\n",
    "from requests_html import HTMLSession"
   ]
  },
  {
   "cell_type": "code",
   "execution_count": 53,
   "metadata": {},
   "outputs": [],
   "source": [
    "def parse_href(url, element):\n",
    "    session = HTMLSession()\n",
    "    r = session.get(url)\n",
    "    elements = r.html.find(element)\n",
    "    links = [element.attrs['href'] for element in elements if 'href' in element.attrs]\n",
    "    return links\n"
   ]
  },
  {
   "cell_type": "code",
   "execution_count": null,
   "metadata": {
    "scrolled": true
   },
   "outputs": [],
   "source": [
    "hyperlinks = parse_href(url, 'a')\n",
    "\n",
    "# Print the string versions of the hyperlinks\n",
    "for hyperlink in hyperlinks:\n",
    "    print(hyperlink)\n"
   ]
  },
  {
   "cell_type": "code",
   "execution_count": 55,
   "metadata": {},
   "outputs": [],
   "source": [
    "def parse_elements(url,element):\n",
    "    session = HTMLSession()\n",
    "    r = session.get(url)\n",
    "    elements = r.html.find(element)\n",
    "    return elements"
   ]
  },
  {
   "cell_type": "code",
   "execution_count": 56,
   "metadata": {},
   "outputs": [],
   "source": [
    "paragraphs = parse_elements(url, 'p')\n",
    "links = parse_elements(url, 'a')"
   ]
  },
  {
   "cell_type": "code",
   "execution_count": 57,
   "metadata": {},
   "outputs": [],
   "source": [
    "def topic_detection(sentence):\n",
    "    DataScience_words = ('data science', 'regression', 'predict', 'predictive', 'classify')\n",
    "    AI_words = ('AI', 'machine learning', 'ml', 'ML', 'NLP', 'LLM','deep learning','neural network','generative', 'GPT-3')\n",
    "    DataWords = ('analysis', 'algorithms','data','data structure','data-structure','big data')\n",
    "    DataScience = any(sentence.count(i) > 0 for i in DataScience_words)\n",
    "    AI = any(sentence.count(i) > 0 for i in AI_words)\n",
    "    data = any(sentence.count(i) > 0 for i in DataWords)\n",
    "    topics = []\n",
    "    if DataScience == True:\n",
    "        topics.append(\"Data Science\")\n",
    "    if AI == True:\n",
    "        topics.append(\"AI\")\n",
    "    if data == True:\n",
    "        topics.append(\"data\")\n",
    "    return topics"
   ]
  },
  {
   "cell_type": "code",
   "execution_count": 58,
   "metadata": {},
   "outputs": [],
   "source": [
    "p_dictionary = {}\n",
    "p_list = []\n",
    "topic_list = []\n",
    "for p in range(0, len(paragraphs)):\n",
    "    if len(paragraphs[p].text) > 50:\n",
    "      #print((paragraphs[p].text))\n",
    "      #print(f\"TALKS ABOUT: {topic_detection(paragraphs[p].text)}\")\n",
    "      p_list.append(paragraphs[p].text)\n",
    "      topic_list.append(topic_detection(paragraphs[p].text))\n",
    "p_dictionary['Paragraphs'] = p_list\n",
    "p_dictionary['Topics'] = topic_list"
   ]
  },
  {
   "cell_type": "code",
   "execution_count": 59,
   "metadata": {
    "scrolled": true
   },
   "outputs": [
    {
     "data": {
      "text/plain": [
       "{'Paragraphs': ['Home Depot beats earnings estimates but warns of \"continued pressure\" on consumers'],\n",
       " 'Topics': [[]]}"
      ]
     },
     "execution_count": 59,
     "metadata": {},
     "output_type": "execute_result"
    }
   ],
   "source": [
    "p_dictionary"
   ]
  },
  {
   "cell_type": "code",
   "execution_count": 60,
   "metadata": {},
   "outputs": [],
   "source": [
    "medium_df = pd.DataFrame(p_dictionary)"
   ]
  },
  {
   "cell_type": "code",
   "execution_count": null,
   "metadata": {},
   "outputs": [],
   "source": [
    "medium_df"
   ]
  },
  {
   "cell_type": "code",
   "execution_count": 18,
   "metadata": {},
   "outputs": [],
   "source": [
    "medium_df['Character Count'] = medium_df['Paragraphs'].apply(lambda x: len(x))\n"
   ]
  },
  {
   "cell_type": "markdown",
   "metadata": {},
   "source": [
    "# Start"
   ]
  },
  {
   "cell_type": "code",
   "execution_count": 6,
   "metadata": {},
   "outputs": [
    {
     "name": "stderr",
     "output_type": "stream",
     "text": [
      "Downloading (…)lve/main/config.json: 100%|█████████████████████████████████████████████| 933/933 [00:00<00:00, 344kB/s]\n",
      "C:\\Users\\Cantek Student AM\\AppData\\Local\\Programs\\Python\\Python311\\Lib\\site-packages\\huggingface_hub\\file_download.py:133: UserWarning: `huggingface_hub` cache-system uses symlinks by default to efficiently store duplicated files but your machine does not support them in C:\\Users\\Cantek Student AM\\.cache\\huggingface\\hub. Caching files will still work but in a degraded version that might require more space on your disk. This warning can be disabled by setting the `HF_HUB_DISABLE_SYMLINKS_WARNING` environment variable. For more details, see https://huggingface.co/docs/huggingface_hub/how-to-cache#limitations.\n",
      "To support symlinks on Windows, you either need to activate Developer Mode or to run Python as an administrator. In order to see activate developer mode, see this article: https://docs.microsoft.com/en-us/windows/apps/get-started/enable-your-device-for-development\n",
      "  warnings.warn(message)\n",
      "Downloading model.safetensors: 100%|████████████████████████████████████████████████| 328M/328M [00:27<00:00, 11.8MB/s]\n",
      "Some weights of the PyTorch model were not used when initializing the TF 2.0 model TFRobertaForSequenceClassification: ['roberta.embeddings.position_ids']\n",
      "- This IS expected if you are initializing TFRobertaForSequenceClassification from a PyTorch model trained on another task or with another architecture (e.g. initializing a TFBertForSequenceClassification model from a BertForPreTraining model).\n",
      "- This IS NOT expected if you are initializing TFRobertaForSequenceClassification from a PyTorch model that you expect to be exactly identical (e.g. initializing a TFBertForSequenceClassification model from a BertForSequenceClassification model).\n",
      "All the weights of TFRobertaForSequenceClassification were initialized from the PyTorch model.\n",
      "If your task is similar to the task the model of the checkpoint was trained on, you can already use TFRobertaForSequenceClassification for predictions without further training.\n",
      "Downloading (…)okenizer_config.json: 100%|████████████████████████████████████████████████████| 333/333 [00:00<?, ?B/s]\n",
      "Downloading (…)olve/main/vocab.json: 100%|███████████████████████████████████████████| 798k/798k [00:01<00:00, 689kB/s]\n",
      "Downloading (…)olve/main/merges.txt: 100%|██████████████████████████████████████████| 456k/456k [00:00<00:00, 1.05MB/s]\n",
      "Downloading (…)/main/tokenizer.json: 100%|████████████████████████████████████████| 1.36M/1.36M [00:00<00:00, 2.92MB/s]\n",
      "Downloading (…)cial_tokens_map.json: 100%|█████████████████████████████████████████████| 239/239 [00:00<00:00, 239kB/s]\n"
     ]
    }
   ],
   "source": [
    "model_id = \"mrm8488/distilroberta-finetuned-financial-news-sentiment-analysis\"\n",
    "label = pipeline('sentiment-analysis', model = model_id)"
   ]
  },
  {
   "cell_type": "code",
   "execution_count": 4,
   "metadata": {},
   "outputs": [],
   "source": [
    "url = 'https://ca.finance.yahoo.com/crypto'\n",
    "response = requests.get(url)\n",
    "page_content = response.text\n",
    "doc = BeautifulSoup(page_content, 'html.parser')"
   ]
  },
  {
   "cell_type": "code",
   "execution_count": 7,
   "metadata": {
    "scrolled": true
   },
   "outputs": [],
   "source": [
    "header = []\n",
    "a_elements = doc.find_all('a', {'class': \"js-content-viewer\"})\n",
    "for i in range (len(a_elements)):\n",
    "    header.append(a_elements[i].text)\n",
    "news_header_df = pd.DataFrame({'News_Header': header})"
   ]
  },
  {
   "cell_type": "code",
   "execution_count": 30,
   "metadata": {},
   "outputs": [],
   "source": [
    "classification = []\n",
    "for i in range (len(news_header_df.News_Header)):\n",
    "    classification.append(label(news_header_df.News_Header[i]))"
   ]
  },
  {
   "cell_type": "code",
   "execution_count": 28,
   "metadata": {},
   "outputs": [
    {
     "data": {
      "text/plain": [
       "'neutral'"
      ]
     },
     "execution_count": 28,
     "metadata": {},
     "output_type": "execute_result"
    }
   ],
   "source": [
    "classification[4][0]['label']"
   ]
  },
  {
   "cell_type": "code",
   "execution_count": 32,
   "metadata": {},
   "outputs": [],
   "source": [
    "labels = []\n",
    "for i in range (len(classification)):\n",
    "    labels.append(classification[i][0]['label'])"
   ]
  },
  {
   "cell_type": "code",
   "execution_count": 33,
   "metadata": {},
   "outputs": [],
   "source": [
    "news_header_df['sentiment_analysis'] = labels"
   ]
  },
  {
   "cell_type": "code",
   "execution_count": 34,
   "metadata": {},
   "outputs": [
    {
     "data": {
      "text/html": [
       "<div>\n",
       "<style scoped>\n",
       "    .dataframe tbody tr th:only-of-type {\n",
       "        vertical-align: middle;\n",
       "    }\n",
       "\n",
       "    .dataframe tbody tr th {\n",
       "        vertical-align: top;\n",
       "    }\n",
       "\n",
       "    .dataframe thead th {\n",
       "        text-align: right;\n",
       "    }\n",
       "</style>\n",
       "<table border=\"1\" class=\"dataframe\">\n",
       "  <thead>\n",
       "    <tr style=\"text-align: right;\">\n",
       "      <th></th>\n",
       "      <th>News_Header</th>\n",
       "      <th>sentiment_analysis</th>\n",
       "    </tr>\n",
       "  </thead>\n",
       "  <tbody>\n",
       "    <tr>\n",
       "      <th>0</th>\n",
       "      <td>MARKETS LIVE BLOGSTOCKS SLIDE AMID CHINA GLOOM...</td>\n",
       "      <td>positive</td>\n",
       "    </tr>\n",
       "    <tr>\n",
       "      <th>1</th>\n",
       "      <td>Bitcoin ETF ruling expected this week—and with...</td>\n",
       "      <td>positive</td>\n",
       "    </tr>\n",
       "    <tr>\n",
       "      <th>2</th>\n",
       "      <td>Bitcoin Is Languishing. What Could Shake Crypt...</td>\n",
       "      <td>negative</td>\n",
       "    </tr>\n",
       "    <tr>\n",
       "      <th>3</th>\n",
       "      <td>First Mover Americas: Europe's First Spot Bitc...</td>\n",
       "      <td>neutral</td>\n",
       "    </tr>\n",
       "    <tr>\n",
       "      <th>4</th>\n",
       "      <td>A tokenized version of Bitcoin is launching on...</td>\n",
       "      <td>neutral</td>\n",
       "    </tr>\n",
       "    <tr>\n",
       "      <th>5</th>\n",
       "      <td>Bitcoin, Ether dip amid low volatility; Solana...</td>\n",
       "      <td>positive</td>\n",
       "    </tr>\n",
       "    <tr>\n",
       "      <th>6</th>\n",
       "      <td>The Secular Investment Case for Bitcoin and Cr...</td>\n",
       "      <td>neutral</td>\n",
       "    </tr>\n",
       "    <tr>\n",
       "      <th>7</th>\n",
       "      <td>Bitcoin price heads higher as US CPI data cont...</td>\n",
       "      <td>positive</td>\n",
       "    </tr>\n",
       "    <tr>\n",
       "      <th>8</th>\n",
       "      <td>UK watchdog raids 34 sites in crypto ATM crack...</td>\n",
       "      <td>neutral</td>\n",
       "    </tr>\n",
       "    <tr>\n",
       "      <th>9</th>\n",
       "      <td>Bitcoin rally falters as crypto pulls back yet...</td>\n",
       "      <td>negative</td>\n",
       "    </tr>\n",
       "    <tr>\n",
       "      <th>10</th>\n",
       "      <td>Bitcoin takes a bath as SEC sues exchange gian...</td>\n",
       "      <td>neutral</td>\n",
       "    </tr>\n",
       "    <tr>\n",
       "      <th>11</th>\n",
       "      <td>EU implements regulations for tracing crypto t...</td>\n",
       "      <td>neutral</td>\n",
       "    </tr>\n",
       "    <tr>\n",
       "      <th>12</th>\n",
       "      <td>What is Worldcoin? ChatGPT's Sam Altman's Ethe...</td>\n",
       "      <td>neutral</td>\n",
       "    </tr>\n",
       "    <tr>\n",
       "      <th>13</th>\n",
       "      <td>Bitcoin shows bullish signals after Janet Yell...</td>\n",
       "      <td>negative</td>\n",
       "    </tr>\n",
       "    <tr>\n",
       "      <th>14</th>\n",
       "      <td>Bitcoin drops as US plans to sell over 41,000 BTC</td>\n",
       "      <td>negative</td>\n",
       "    </tr>\n",
       "    <tr>\n",
       "      <th>15</th>\n",
       "      <td>Polygon co-founder on ambition to overtake Eth...</td>\n",
       "      <td>neutral</td>\n",
       "    </tr>\n",
       "    <tr>\n",
       "      <th>16</th>\n",
       "      <td>Ripple price soars 20% as SEC case nears verdict</td>\n",
       "      <td>positive</td>\n",
       "    </tr>\n",
       "  </tbody>\n",
       "</table>\n",
       "</div>"
      ],
      "text/plain": [
       "                                          News_Header sentiment_analysis\n",
       "0   MARKETS LIVE BLOGSTOCKS SLIDE AMID CHINA GLOOM...           positive\n",
       "1   Bitcoin ETF ruling expected this week—and with...           positive\n",
       "2   Bitcoin Is Languishing. What Could Shake Crypt...           negative\n",
       "3   First Mover Americas: Europe's First Spot Bitc...            neutral\n",
       "4   A tokenized version of Bitcoin is launching on...            neutral\n",
       "5   Bitcoin, Ether dip amid low volatility; Solana...           positive\n",
       "6   The Secular Investment Case for Bitcoin and Cr...            neutral\n",
       "7   Bitcoin price heads higher as US CPI data cont...           positive\n",
       "8   UK watchdog raids 34 sites in crypto ATM crack...            neutral\n",
       "9   Bitcoin rally falters as crypto pulls back yet...           negative\n",
       "10  Bitcoin takes a bath as SEC sues exchange gian...            neutral\n",
       "11  EU implements regulations for tracing crypto t...            neutral\n",
       "12  What is Worldcoin? ChatGPT's Sam Altman's Ethe...            neutral\n",
       "13  Bitcoin shows bullish signals after Janet Yell...           negative\n",
       "14  Bitcoin drops as US plans to sell over 41,000 BTC           negative\n",
       "15  Polygon co-founder on ambition to overtake Eth...            neutral\n",
       "16   Ripple price soars 20% as SEC case nears verdict           positive"
      ]
     },
     "execution_count": 34,
     "metadata": {},
     "output_type": "execute_result"
    }
   ],
   "source": [
    "news_header_df"
   ]
  },
  {
   "cell_type": "code",
   "execution_count": null,
   "metadata": {},
   "outputs": [],
   "source": []
  }
 ],
 "metadata": {
  "kernelspec": {
   "display_name": "Python 3 (ipykernel)",
   "language": "python",
   "name": "python3"
  },
  "language_info": {
   "codemirror_mode": {
    "name": "ipython",
    "version": 3
   },
   "file_extension": ".py",
   "mimetype": "text/x-python",
   "name": "python",
   "nbconvert_exporter": "python",
   "pygments_lexer": "ipython3",
   "version": "3.11.4"
  }
 },
 "nbformat": 4,
 "nbformat_minor": 4
}
